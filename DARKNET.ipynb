{
  "cells": [
    {
      "cell_type": "markdown",
      "metadata": {
        "id": "view-in-github",
        "colab_type": "text"
      },
      "source": [
        "<a href=\"https://colab.research.google.com/github/asanis/testcode/blob/main/DARKNET.ipynb\" target=\"_parent\"><img src=\"https://colab.research.google.com/assets/colab-badge.svg\" alt=\"Open In Colab\"/></a>"
      ]
    },
    {
      "cell_type": "markdown",
      "metadata": {
        "id": "fdew4TGjSRcB"
      },
      "source": []
    },
    {
      "cell_type": "code",
      "execution_count": 1,
      "metadata": {
        "id": "aBg3GhZaSVnh"
      },
      "outputs": [],
      "source": [
        "#  Εισαγωγή βιβλιοθηκών\n",
        "import pandas as pd\n",
        "import ipaddress\n",
        "import numpy as np\n",
        "from sklearn.model_selection import train_test_split, RandomizedSearchCV\n",
        "from sklearn.impute import SimpleImputer\n",
        "from sklearn.preprocessing import StandardScaler\n",
        "from imblearn.over_sampling import SMOTE\n",
        "from sklearn.ensemble import RandomForestClassifier\n",
        "from sklearn.metrics import accuracy_score, classification_report, confusion_matrix\n",
        "from scipy.stats import randint"
      ]
    },
    {
      "cell_type": "code",
      "execution_count": 2,
      "metadata": {
        "id": "nIgqMM2PSvtM"
      },
      "outputs": [],
      "source": [
        "#  Συνάρτηση για μετατροπή IP σε αριθμούς\n",
        "def ip_to_int(ip):\n",
        "    try:\n",
        "        return int(ipaddress.ip_address(ip))\n",
        "    except ValueError:\n",
        "        return None  # Επιστρέφει None αν η διεύθυνση IP είναι άκυρη"
      ]
    },
    {
      "cell_type": "code",
      "execution_count": 3,
      "metadata": {
        "id": "vysvMGJ4SJz3"
      },
      "outputs": [],
      "source": [
        "#  Φόρτωση δεδομένων\n",
        "df = pd.read_csv('https://raw.githubusercontent.com/kdemertzis/EKPA/refs/heads/main/Data/DarkNet.csv', low_memory=False)"
      ]
    },
    {
      "cell_type": "code",
      "execution_count": 4,
      "metadata": {
        "id": "Job6s_TcTv2T"
      },
      "outputs": [],
      "source": [
        "#  Μετατροπή των IP σε αριθμούς (Src_IP & Dst_IP)\n",
        "df['Src_IP'] = df['Src_IP'].apply(ip_to_int)\n",
        "df['Dst_IP'] = df['Dst_IP'].apply(ip_to_int)"
      ]
    },
    {
      "cell_type": "code",
      "execution_count": 5,
      "metadata": {
        "id": "vehxU25JUByB"
      },
      "outputs": [],
      "source": [
        "#  Διαχωρισμός χαρακτηριστικών (X) και στόχου (y)\n",
        "X = df.drop(columns=['Label-1', 'Label-2'])\n",
        "y = df['Label-1']"
      ]
    },
    {
      "cell_type": "code",
      "execution_count": 6,
      "metadata": {
        "id": "aTtcfoShUMGn"
      },
      "outputs": [],
      "source": [
        "#  Μετατροπή όλων των δεδομένων σε αριθμούς (αντικατάσταση μη αριθμητικών τιμών)\n",
        "X = X.apply(pd.to_numeric, errors='coerce')"
      ]
    },
    {
      "cell_type": "code",
      "execution_count": 7,
      "metadata": {
        "id": "2yZgfM1YUXsA"
      },
      "outputs": [],
      "source": [
        "#  Αντικατάσταση άπειρων τιμών με NaN\n",
        "X.replace([np.inf, -np.inf], np.nan, inplace=True)"
      ]
    },
    {
      "cell_type": "code",
      "execution_count": 8,
      "metadata": {
        "id": "HmG41CzMUnQs"
      },
      "outputs": [],
      "source": [
        "#  Αντικατάσταση NaN τιμών με μέση τιμή\n",
        "imputer = SimpleImputer(strategy='mean')\n",
        "X_imputed = pd.DataFrame(imputer.fit_transform(X), columns=X.columns)"
      ]
    },
    {
      "cell_type": "code",
      "execution_count": 9,
      "metadata": {
        "id": "vbxgfUXTU68s"
      },
      "outputs": [],
      "source": [
        "#  Κανονικοποίηση δεδομένων με StandardScaler\n",
        "scaler = StandardScaler()\n",
        "X_scaled = scaler.fit_transform(X_imputed)"
      ]
    },
    {
      "cell_type": "code",
      "execution_count": 10,
      "metadata": {
        "id": "XMEYvrVDVENL"
      },
      "outputs": [],
      "source": [
        "#  Διαχωρισμός σε σύνολο εκπαίδευσης (70%) και δοκιμής (30%)\n",
        "X_train, X_test, y_train, y_test = train_test_split(X_scaled, y, test_size=0.3, random_state=42, stratify=y)"
      ]
    },
    {
      "cell_type": "code",
      "execution_count": 11,
      "metadata": {
        "id": "hnkfhW5mVShd"
      },
      "outputs": [],
      "source": [
        "#  Εξισορρόπηση των κλάσεων με SMOTE\n",
        "smote = SMOTE(random_state=42)\n",
        "X_train_resampled, y_train_resampled = smote.fit_resample(X_train, y_train)"
      ]
    },
    {
      "cell_type": "code",
      "execution_count": 12,
      "metadata": {
        "id": "arDanDrVVrZc"
      },
      "outputs": [],
      "source": [
        "#  Ορισμός των υπερπαραμέτρων για βελτιστοποίηση\n",
        "param_distributions = {\n",
        "    'n_estimators': randint(50, 100),\n",
        "    'max_depth': [10, 20, 30],\n",
        "    'min_samples_split': randint(2, 5),\n",
        "    'min_samples_leaf': randint(1, 2)\n",
        "}\n"
      ]
    },
    {
      "cell_type": "code",
      "execution_count": 13,
      "metadata": {
        "id": "QoCR-0YgV3ks"
      },
      "outputs": [],
      "source": [
        "#  Δημιουργία Random Forest Classifier\n",
        "rf = RandomForestClassifier(n_estimators=50, max_depth=15, random_state=42, min_samples_split=3, min_samples_leaf=1)"
      ]
    },
    {
      "cell_type": "code",
      "execution_count": 14,
      "metadata": {
        "id": "JZtG29Q9WEV0"
      },
      "outputs": [],
      "source": [
        "#  Χρήση RandomizedSearchCV για βέλτιστες υπερπαραμέτρους\n",
        "random_search = RandomizedSearchCV(\n",
        "    estimator=rf,\n",
        "    param_distributions=param_distributions,\n",
        "    n_iter=10,\n",
        "    cv=3,\n",
        "    verbose=1,\n",
        "    n_jobs=-1,\n",
        "    random_state=42\n",
        ")"
      ]
    },
    {
      "cell_type": "code",
      "execution_count": 15,
      "metadata": {
        "colab": {
          "base_uri": "https://localhost:8080/"
        },
        "id": "UedEWo9ua_6y",
        "outputId": "5dc141e2-5b55-422e-8b18-685692c822ec"
      },
      "outputs": [
        {
          "output_type": "stream",
          "name": "stdout",
          "text": [
            "Fitting 3 folds for each of 10 candidates, totalling 30 fits\n"
          ]
        }
      ],
      "source": [
        "#  Εκπαίδευση του μοντέλου\n",
        "random_search.fit(X_train_resampled, y_train_resampled)\n",
        "best_model = random_search.best_estimator_\n"
      ]
    },
    {
      "cell_type": "code",
      "execution_count": 16,
      "metadata": {
        "colab": {
          "base_uri": "https://localhost:8080/"
        },
        "id": "H8LplRP4Wacf",
        "outputId": "a1643f7f-1b19-4cc4-e968-34bfa8ec0720"
      },
      "outputs": [
        {
          "output_type": "stream",
          "name": "stdout",
          "text": [
            "🔹 Βέλτιστες Παράμετροι: {'max_depth': 30, 'min_samples_leaf': 1, 'min_samples_split': 3, 'n_estimators': 68}\n"
          ]
        }
      ],
      "source": [
        "#  Αξιολόγηση του βέλτιστου μοντέλου\n",
        "print(\"🔹 Βέλτιστες Παράμετροι:\", random_search.best_params_)"
      ]
    },
    {
      "cell_type": "code",
      "execution_count": 17,
      "metadata": {
        "id": "3SIQ8nQAW8W4"
      },
      "outputs": [],
      "source": [
        "#  Πρόβλεψη στο σύνολο δοκιμής\n",
        "y_pred = best_model.predict(X_test)"
      ]
    },
    {
      "cell_type": "code",
      "execution_count": 18,
      "metadata": {
        "colab": {
          "base_uri": "https://localhost:8080/"
        },
        "id": "TFNUaHC-XMCe",
        "outputId": "c9cbfb7f-97e0-483b-8c50-ec9a69a968be"
      },
      "outputs": [
        {
          "output_type": "stream",
          "name": "stdout",
          "text": [
            " Ακρίβεια Μοντέλου: 0.9963060173033926\n",
            "\n",
            " Αναλυτική Αξιολόγηση:\n",
            "              precision    recall  f1-score   support\n",
            "\n",
            "     Non-Tor       1.00      1.00      1.00      9279\n",
            "      NonVPN       0.99      0.99      0.99      6822\n",
            "         Tor       0.92      0.93      0.92       418\n",
            "         VPN       1.00      1.00      1.00      4055\n",
            "\n",
            "    accuracy                           1.00     20574\n",
            "   macro avg       0.98      0.98      0.98     20574\n",
            "weighted avg       1.00      1.00      1.00     20574\n",
            "\n"
          ]
        }
      ],
      "source": [
        "  #  Υπολογισμός ακρίβειας και αναφοράς ταξινόμησης\n",
        "accuracy = accuracy_score(y_test, y_pred)\n",
        "print(f' Ακρίβεια Μοντέλου: {accuracy}')\n",
        "print('\\n Αναλυτική Αξιολόγηση:')\n",
        "print(classification_report(y_test, y_pred))"
      ]
    },
    {
      "cell_type": "code",
      "execution_count": 19,
      "metadata": {
        "colab": {
          "base_uri": "https://localhost:8080/"
        },
        "id": "OfOXC1f4XeAU",
        "outputId": "cf015bb4-f067-49c5-cd91-dd2f2b8b0cd8"
      },
      "outputs": [
        {
          "output_type": "stream",
          "name": "stdout",
          "text": [
            "\n",
            " Confusion Matrix:\n",
            "[[9276    2    0    1]\n",
            " [   1 6787   32    2]\n",
            " [   0   30  388    0]\n",
            " [   3    3    2 4047]]\n"
          ]
        }
      ],
      "source": [
        "  #  Εκτύπωση του confusion matrix\n",
        "print('\\n Confusion Matrix:')\n",
        "print(confusion_matrix(y_test, y_pred))"
      ]
    }
  ],
  "metadata": {
    "colab": {
      "provenance": [],
      "include_colab_link": true
    },
    "kernelspec": {
      "display_name": "Python 3",
      "name": "python3"
    },
    "language_info": {
      "name": "python"
    }
  },
  "nbformat": 4,
  "nbformat_minor": 0
}